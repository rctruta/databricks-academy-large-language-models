{
 "cells": [
  {
   "attachments": {},
   "cell_type": "markdown",
   "metadata": {
    "application/vnd.databricks.v1+cell": {
     "cellMetadata": {},
     "inputWidgets": {},
     "nuid": "ebc41304-3232-4ecd-83a7-e39606c891fe",
     "showTitle": false,
     "title": ""
    }
   },
   "source": [
    "-sandbox\n",
    "\n",
    "<div style=\"text-align: center; line-height: 0; padding-top: 9px;\">\n",
    "  <img src=\"https://databricks.com/wp-content/uploads/2018/03/db-academy-rgb-1200px.png\" alt=\"Databricks Learning\" style=\"width: 600px\">\n",
    "</div>"
   ]
  },
  {
   "attachments": {},
   "cell_type": "markdown",
   "metadata": {
    "application/vnd.databricks.v1+cell": {
     "cellMetadata": {},
     "inputWidgets": {},
     "nuid": "98e0291a-83d3-459b-98a5-b51794906de4",
     "showTitle": false,
     "title": ""
    }
   },
   "source": [
    "# Lab: Adding Our Own Data to a Multi-Stage Reasoning System\n",
    "\n",
    "### Working with external knowledge bases \n",
    "In this notebook we're going to augment the knowledge base of our LLM with additional data. We will split the notebook into two halves:\n",
    "- First, we will walk through how to load in a relatively small, local text file using a `DocumentLoader`, split it into chunks, and store it in a vector database using `ChromaDB`.\n",
    "- Second, you will get a chance to show what you've learned by building a larger system with the complete works of Shakespeare. \n",
    "----\n",
    "### ![Dolly](https://files.training.databricks.com/images/llm/dolly_small.png) Learning Objectives\n",
    "\n",
    "By the end of this notebook, you will be able to:\n",
    "1. Add external local data to your LLM's knowledge base via a vector database.\n",
    "2. Construct a Question-Answer(QA) LLMChain to \"talk to your data.\"\n",
    "3. Load external data sources from remote locations and store in a vector database.\n",
    "4. Leverage different retrieval methods to search over your data."
   ]
  },
  {
   "attachments": {},
   "cell_type": "markdown",
   "metadata": {
    "application/vnd.databricks.v1+cell": {
     "cellMetadata": {},
     "inputWidgets": {},
     "nuid": "1694a6ab-ae44-4d9d-8b0d-5d0989400618",
     "showTitle": false,
     "title": ""
    }
   },
   "source": [
    "## Classroom Setup"
   ]
  },
  {
   "cell_type": "code",
   "execution_count": null,
   "metadata": {
    "application/vnd.databricks.v1+cell": {
     "cellMetadata": {
      "byteLimit": 2048000,
      "rowLimit": 10000
     },
     "inputWidgets": {},
     "nuid": "8baf16be-e557-418c-be9d-19b193910930",
     "showTitle": false,
     "title": ""
    }
   },
   "outputs": [],
   "source": [
    "%run ../Includes/Classroom-Setup"
   ]
  },
  {
   "attachments": {},
   "cell_type": "markdown",
   "metadata": {
    "application/vnd.databricks.v1+cell": {
     "cellMetadata": {},
     "inputWidgets": {},
     "nuid": "381fa5b1-6ce0-4a0f-b4cd-7093dee3aca9",
     "showTitle": false,
     "title": ""
    }
   },
   "source": [
    "Import libraries."
   ]
  },
  {
   "cell_type": "code",
   "execution_count": null,
   "metadata": {
    "application/vnd.databricks.v1+cell": {
     "cellMetadata": {
      "byteLimit": 2048000,
      "rowLimit": 10000
     },
     "inputWidgets": {},
     "nuid": "2432d1c9-b3ad-4322-9e5d-38503c3a6c83",
     "showTitle": false,
     "title": ""
    }
   },
   "outputs": [],
   "source": [
    "%pip install chromadb==0.3.21 tiktoken==0.3.3 sqlalchemy==2.0.15"
   ]
  },
  {
   "attachments": {},
   "cell_type": "markdown",
   "metadata": {
    "application/vnd.databricks.v1+cell": {
     "cellMetadata": {},
     "inputWidgets": {},
     "nuid": "fb029d5e-ba4a-4c52-b1e7-5057713d4b73",
     "showTitle": false,
     "title": ""
    }
   },
   "source": [
    "Fill in your credentials."
   ]
  },
  {
   "cell_type": "code",
   "execution_count": null,
   "metadata": {
    "application/vnd.databricks.v1+cell": {
     "cellMetadata": {
      "byteLimit": 2048000,
      "rowLimit": 10000
     },
     "inputWidgets": {},
     "nuid": "bcafd2da-c4e0-4874-ba35-085a60ae2203",
     "showTitle": false,
     "title": ""
    }
   },
   "outputs": [],
   "source": [
    "# TODO\n",
    "# For many of the services that we'll using in the notebook, we'll need a HuggingFace API key so this cell will ask for it:\n",
    "# HuggingFace Hub: https://huggingface.co/inference-api\n",
    "\n",
    "import os\n",
    "os.environ[\"HUGGINGFACEHUB_API_TOKEN\"] = \"secret\""
   ]
  },
  {
   "attachments": {},
   "cell_type": "markdown",
   "metadata": {
    "application/vnd.databricks.v1+cell": {
     "cellMetadata": {},
     "inputWidgets": {},
     "nuid": "34059683-862f-495c-8515-de76f7dace32",
     "showTitle": false,
     "title": ""
    }
   },
   "source": [
    "## Building a Personalized Document Oracle\n",
    "\n",
    "In this notebook, we're going to build a special type of LLMChain that will enable us to ask questions of our data. We will be able to \"speak to our data\"."
   ]
  },
  {
   "attachments": {},
   "cell_type": "markdown",
   "metadata": {
    "application/vnd.databricks.v1+cell": {
     "cellMetadata": {},
     "inputWidgets": {},
     "nuid": "af5fa57a-34eb-4d99-91ae-8bdf6d1c39b7",
     "showTitle": false,
     "title": ""
    }
   },
   "source": [
    "### Step 1 - Loading Documents into our Vector Store\n",
    "For this system we'll leverage the [ChromaDB vector database](https://www.trychroma.com/) and load in some text we have on file. This file is of a hypothetical laptop being reviewed in both long form and with brief customer reviews. We'll use LangChain's `TextLoader` to load this data."
   ]
  },
  {
   "cell_type": "code",
   "execution_count": null,
   "metadata": {
    "application/vnd.databricks.v1+cell": {
     "cellMetadata": {
      "byteLimit": 2048000,
      "rowLimit": 10000
     },
     "inputWidgets": {},
     "nuid": "dcf291a5-c1d2-42f8-9f77-49dab7d9ced7",
     "showTitle": false,
     "title": ""
    }
   },
   "outputs": [
    {
     "data": {
      "text/html": [
       "<style scoped>\n",
       "  .table-result-container {\n",
       "    max-height: 300px;\n",
       "    overflow: auto;\n",
       "  }\n",
       "  table, th, td {\n",
       "    border: 1px solid black;\n",
       "    border-collapse: collapse;\n",
       "  }\n",
       "  th, td {\n",
       "    padding: 5px;\n",
       "  }\n",
       "  th {\n",
       "    text-align: left;\n",
       "  }\n",
       "</style><div class='table-result-container'><table class='table-result'><thead style='background-color: white'><tr><th>metadata</th><th>page_content</th></tr></thead><tbody><tr><td>Map(source -> /dbfs/mnt/dbacademy-datasets/large-language-models/v01/reviews/fake_laptop_reviews.txt)</td><td>Raytech Supernova Laptop Review: A Star in the Making\n",
       "Introduction\n",
       "The laptop market has become increasingly competitive in recent years, with countless manufacturers vying for consumer attention. Raytech, a relatively new player in the game, has recently released the Supernova laptop, a device that aims to establish itself among the giants of the industry. In this comprehensive review, we will delve into every aspect of the Raytech Supernova laptop, covering its design, performance, features, and value for money. Let's find out if this newcomer has what it takes to make an impact in the crowded market.\n",
       "Design and Build Quality\n",
       "The first thing you'll notice about the Raytech Supernova is its sleek, modern design. The laptop is encased in a premium, brushed aluminum chassis with a matte finish, lending it an air of sophistication. It's a lightweight device, weighing in at just 2.8 pounds, making it easy to carry around for those always on the go. The slim profile, measuring 0.6 inches in thickness, adds to its portability.\n",
       "The Supernova's build quality is impressive, with no flexing or creaking when handling the device. The hinge is sturdy and smooth, allowing for easy adjustment of the display while keeping it stable during use. The laptop's keyboard is well-spaced, offering a comfortable typing experience. The keys are backlit, with customizable lighting options, making it convenient for use in dimly lit environments.\n",
       "Display and Graphics \n",
       "The Raytech Supernova comes with a 15.6-inch 4K UHD (3840 x 2160) IPS display, offering crisp and vibrant visuals. The screen is capable of producing a wide color gamut, ensuring accurate color reproduction across different media types. The panel has a matte finish, which helps to reduce glare and reflections, making it ideal for use in various lighting conditions.\n",
       "The laptop is powered by an NVIDIA GeForce RTX 3070 GPU, which provides excellent graphics performance for gaming and other demanding tasks. With support for real-time ray tracing and DLSS, the Supernova is well-suited for graphic-intensive applications and games. The GPU performance ensures smooth and immersive gameplay, even at high settings.\n",
       "Performance and Battery Life \n",
       "Under the hood, the Raytech Supernova is powered by the latest 11th Gen Intel Core i7 processor, paired with 16GB of DDR4 RAM. This combination ensures snappy performance during everyday tasks, such as web browsing and productivity applications. The laptop also has a 1TB NVMe SSD, which offers fast read/write speeds, resulting in quick boot times and application launches.\n",
       "In our tests, the Supernova managed to handle intensive tasks, such as video editing and 3D rendering, with ease. Even when pushed to its limits, the laptop remained cool and quiet, thanks to its efficient cooling system.\n",
       "Battery life is an essential aspect of any laptop, and the Raytech Supernova does not disappoint. The device comes with a 97Wh battery, which, in our testing, lasted for around 10 hours of continuous web browsing and productivity tasks. When used for gaming or other demanding tasks, the battery life is reduced to approximately 5 hours, which is still impressive for a high-performance laptop.\n",
       "Connectivity and Ports\n",
       "The Raytech Supernova offers a wide range of connectivity options, ensuring compatibility with various peripherals and devices. On the left side, you'll find a USB 3.2 Gen 2 Type-A port, an HDMI 2.1 port, and a Gigabit Ethernet port. On the right side, there's a Thunderbolt 4 port, two USB 3.2 Gen 1 Type-A ports, a 3.5mm audio jack, and an SD card reader. The Thunderbolt 4 port supports Power Delivery, allowing you to charge the laptop and connect peripherals with a single cable.\n",
       "The Supernova also comes with Wi-Fi 6 and Bluetooth 5.1, ensuring fast and reliable wireless connections. These features make the laptop versatile, allowing you to connect multiple devices and peripherals simultaneously without any hassle.\n",
       "Audio and Webcam \n",
       "The audio quality on the Raytech Supernova is impressive, thanks to its built-in stereo speakers. The laptop features Dolby Atmos audio technology, which enhances the audio experience by providing immersive sound quality. The speakers deliver clear and crisp audio, with a reasonable amount of bass for a laptop. However, for a more immersive experience, external speakers or headphones are recommended.\n",
       "The Supernova is equipped with a 720p HD webcam, which is adequate for video calls and conferencing. The camera provides decent image quality under good lighting conditions but struggles in low light situations. The built-in dual-array microphones, however, offer clear and noise-free audio capture during calls.\n",
       "Software and Security \n",
       "The Raytech Supernova comes pre-installed with Windows 10 Home, offering a familiar and user-friendly operating system. A free upgrade to Windows 11 is available, which introduces new features and improvements to the overall user experience.\n",
       "In terms of security, the Supernova includes a fingerprint reader integrated into the power button. This feature allows for quick and secure logins using Windows Hello. The laptop also features a TPM 2.0 chip, which provides hardware-based encryption for sensitive data, further enhancing the device's security.\n",
       "Customer Support and Warranty\n",
       "Raytech offers a standard one-year limited warranty for the Supernova laptop, covering manufacturing defects and hardware issues. The company provides customer support through email, live chat, and phone, ensuring that users have access to assistance when needed.\n",
       "In our interactions with Raytech's customer support, we found the representatives to be knowledgeable, friendly, and responsive. The company also maintains an online support portal, which includes a comprehensive knowledge base, software downloads, and troubleshooting guides for common issues.\n",
       "Conclusion\n",
       "The Raytech Supernova is a compelling laptop that offers an impressive combination of performance, features, and design. With its sleek aluminum chassis, vibrant 4K display, and powerful hardware, the Supernova stands out in the crowded laptop market.\n",
       "The laptop's excellent battery life, wide range of connectivity options, and robust security features make it a versatile device, suitable for both professional and personal use. While the audio and webcam quality could be improved, these are minor drawbacks in an otherwise outstanding laptop.\n",
       "Overall, the Raytech Supernova offers excellent value for money, making it an ideal choice for those looking for a high-performance laptop that doesn't compromise on style or functionality. If you're in the market for a new laptop, the Raytech Supernova should definitely be on your shortlist.\n",
       "\n",
       "Customer Reviews:\n",
       "\"Sleek and powerful - 5 stars\"\n",
       "I recently purchased the Raytech Supernova and I couldn't be happier. It's lightweight, stylish, and powerful, making it perfect for both work and play. The 4K display is stunning, and the battery life is impressive. Highly recommended!\n",
       "\n",
       "\"Great performance but average webcam - 4 stars\"\n",
       "The Raytech Supernova has exceeded my expectations in terms of performance and design. However, the webcam quality is just average. It works fine for casual video calls, but for professional use, I'd recommend an external webcam.\n",
       "\n",
       "\"Perfect for content creators - 5 stars\"\n",
       "As a video editor, the Supernova has been a game-changer for me. The 4K display, powerful GPU, and fast SSD make editing large video files a breeze. The connectivity options are also a plus. Absolutely love this laptop!\n",
       "\n",
       "\"Impressive gaming laptop - 5 stars\"\n",
       "The Raytech Supernova handles all my favorite games with ease, even on high settings. The display is beautiful, and the cooling system keeps the laptop quiet during long gaming sessions. A fantastic choice for gamers!\n",
       "\n",
       "\"Good but not perfect - 4 stars\"\n",
       "I love the design, performance, and battery life of the Supernova. The only downside is the audio quality from the built-in speakers. It's decent, but for a better experience, I use headphones or external speakers.\n",
       "\n",
       "\"Excellent value for money - 5 stars\"\n",
       "The Supernova offers great performance and features at a reasonable price. It's sleek, lightweight, and powerful, making it suitable for both work and entertainment. Highly recommended for anyone in need of a new laptop!\n",
       "\n",
       "\"Great for on-the-go professionals - 4.5 stars\"\n",
       "As a traveling professional, the Supernova has been a reliable companion. Its lightweight design and long battery life make it ideal for working on the go. The only minor issue is the webcam quality, but overall, it's an excellent laptop.\n",
       "\n",
       "\"Stylish and versatile - 5 stars\"\n",
       "The Raytech Supernova is a perfect combination of style and functionality. The aluminum chassis gives it a premium feel, and the performance is top-notch. The variety of ports allows me to connect all my peripherals without a problem. Highly satisfied!\n",
       "\n",
       "\"Reliable and user-friendly - 4 stars\"\n",
       "The Supernova has been a dependable laptop for my daily tasks. The 4K display is a treat for the eyes, and the performance is reliable. The fingerprint reader for secure login is a nice touch. However, the audio quality could be better.\n",
       "\n",
       "\"A solid choice for students - 5 stars\"\n",
       "As a student, I needed a laptop that could handle multitasking, media consumption, and occasional gaming. The Supernova checks all those boxes while being lightweight and stylish. The battery life is also a huge plus. I'm extremely happy with my purchase!\n",
       "\n",
       "</td></tr></tbody></table></div>"
      ]
     },
     "metadata": {
      "application/vnd.databricks.v1+output": {
       "addedWidgets": {},
       "aggData": [],
       "aggError": "",
       "aggOverflow": false,
       "aggSchema": [],
       "aggSeriesLimitReached": false,
       "aggType": "",
       "arguments": {},
       "columnCustomDisplayInfos": {},
       "data": [
        [
         {
          "source": "/dbfs/mnt/dbacademy-datasets/large-language-models/v01/reviews/fake_laptop_reviews.txt"
         },
         "Raytech Supernova Laptop Review: A Star in the Making\nIntroduction\nThe laptop market has become increasingly competitive in recent years, with countless manufacturers vying for consumer attention. Raytech, a relatively new player in the game, has recently released the Supernova laptop, a device that aims to establish itself among the giants of the industry. In this comprehensive review, we will delve into every aspect of the Raytech Supernova laptop, covering its design, performance, features, and value for money. Let's find out if this newcomer has what it takes to make an impact in the crowded market.\nDesign and Build Quality\nThe first thing you'll notice about the Raytech Supernova is its sleek, modern design. The laptop is encased in a premium, brushed aluminum chassis with a matte finish, lending it an air of sophistication. It's a lightweight device, weighing in at just 2.8 pounds, making it easy to carry around for those always on the go. The slim profile, measuring 0.6 inches in thickness, adds to its portability.\nThe Supernova's build quality is impressive, with no flexing or creaking when handling the device. The hinge is sturdy and smooth, allowing for easy adjustment of the display while keeping it stable during use. The laptop's keyboard is well-spaced, offering a comfortable typing experience. The keys are backlit, with customizable lighting options, making it convenient for use in dimly lit environments.\nDisplay and Graphics \nThe Raytech Supernova comes with a 15.6-inch 4K UHD (3840 x 2160) IPS display, offering crisp and vibrant visuals. The screen is capable of producing a wide color gamut, ensuring accurate color reproduction across different media types. The panel has a matte finish, which helps to reduce glare and reflections, making it ideal for use in various lighting conditions.\nThe laptop is powered by an NVIDIA GeForce RTX 3070 GPU, which provides excellent graphics performance for gaming and other demanding tasks. With support for real-time ray tracing and DLSS, the Supernova is well-suited for graphic-intensive applications and games. The GPU performance ensures smooth and immersive gameplay, even at high settings.\nPerformance and Battery Life \nUnder the hood, the Raytech Supernova is powered by the latest 11th Gen Intel Core i7 processor, paired with 16GB of DDR4 RAM. This combination ensures snappy performance during everyday tasks, such as web browsing and productivity applications. The laptop also has a 1TB NVMe SSD, which offers fast read/write speeds, resulting in quick boot times and application launches.\nIn our tests, the Supernova managed to handle intensive tasks, such as video editing and 3D rendering, with ease. Even when pushed to its limits, the laptop remained cool and quiet, thanks to its efficient cooling system.\nBattery life is an essential aspect of any laptop, and the Raytech Supernova does not disappoint. The device comes with a 97Wh battery, which, in our testing, lasted for around 10 hours of continuous web browsing and productivity tasks. When used for gaming or other demanding tasks, the battery life is reduced to approximately 5 hours, which is still impressive for a high-performance laptop.\nConnectivity and Ports\nThe Raytech Supernova offers a wide range of connectivity options, ensuring compatibility with various peripherals and devices. On the left side, you'll find a USB 3.2 Gen 2 Type-A port, an HDMI 2.1 port, and a Gigabit Ethernet port. On the right side, there's a Thunderbolt 4 port, two USB 3.2 Gen 1 Type-A ports, a 3.5mm audio jack, and an SD card reader. The Thunderbolt 4 port supports Power Delivery, allowing you to charge the laptop and connect peripherals with a single cable.\nThe Supernova also comes with Wi-Fi 6 and Bluetooth 5.1, ensuring fast and reliable wireless connections. These features make the laptop versatile, allowing you to connect multiple devices and peripherals simultaneously without any hassle.\nAudio and Webcam \nThe audio quality on the Raytech Supernova is impressive, thanks to its built-in stereo speakers. The laptop features Dolby Atmos audio technology, which enhances the audio experience by providing immersive sound quality. The speakers deliver clear and crisp audio, with a reasonable amount of bass for a laptop. However, for a more immersive experience, external speakers or headphones are recommended.\nThe Supernova is equipped with a 720p HD webcam, which is adequate for video calls and conferencing. The camera provides decent image quality under good lighting conditions but struggles in low light situations. The built-in dual-array microphones, however, offer clear and noise-free audio capture during calls.\nSoftware and Security \nThe Raytech Supernova comes pre-installed with Windows 10 Home, offering a familiar and user-friendly operating system. A free upgrade to Windows 11 is available, which introduces new features and improvements to the overall user experience.\nIn terms of security, the Supernova includes a fingerprint reader integrated into the power button. This feature allows for quick and secure logins using Windows Hello. The laptop also features a TPM 2.0 chip, which provides hardware-based encryption for sensitive data, further enhancing the device's security.\nCustomer Support and Warranty\nRaytech offers a standard one-year limited warranty for the Supernova laptop, covering manufacturing defects and hardware issues. The company provides customer support through email, live chat, and phone, ensuring that users have access to assistance when needed.\nIn our interactions with Raytech's customer support, we found the representatives to be knowledgeable, friendly, and responsive. The company also maintains an online support portal, which includes a comprehensive knowledge base, software downloads, and troubleshooting guides for common issues.\nConclusion\nThe Raytech Supernova is a compelling laptop that offers an impressive combination of performance, features, and design. With its sleek aluminum chassis, vibrant 4K display, and powerful hardware, the Supernova stands out in the crowded laptop market.\nThe laptop's excellent battery life, wide range of connectivity options, and robust security features make it a versatile device, suitable for both professional and personal use. While the audio and webcam quality could be improved, these are minor drawbacks in an otherwise outstanding laptop.\nOverall, the Raytech Supernova offers excellent value for money, making it an ideal choice for those looking for a high-performance laptop that doesn't compromise on style or functionality. If you're in the market for a new laptop, the Raytech Supernova should definitely be on your shortlist.\n\nCustomer Reviews:\n\"Sleek and powerful - 5 stars\"\nI recently purchased the Raytech Supernova and I couldn't be happier. It's lightweight, stylish, and powerful, making it perfect for both work and play. The 4K display is stunning, and the battery life is impressive. Highly recommended!\n\n\"Great performance but average webcam - 4 stars\"\nThe Raytech Supernova has exceeded my expectations in terms of performance and design. However, the webcam quality is just average. It works fine for casual video calls, but for professional use, I'd recommend an external webcam.\n\n\"Perfect for content creators - 5 stars\"\nAs a video editor, the Supernova has been a game-changer for me. The 4K display, powerful GPU, and fast SSD make editing large video files a breeze. The connectivity options are also a plus. Absolutely love this laptop!\n\n\"Impressive gaming laptop - 5 stars\"\nThe Raytech Supernova handles all my favorite games with ease, even on high settings. The display is beautiful, and the cooling system keeps the laptop quiet during long gaming sessions. A fantastic choice for gamers!\n\n\"Good but not perfect - 4 stars\"\nI love the design, performance, and battery life of the Supernova. The only downside is the audio quality from the built-in speakers. It's decent, but for a better experience, I use headphones or external speakers.\n\n\"Excellent value for money - 5 stars\"\nThe Supernova offers great performance and features at a reasonable price. It's sleek, lightweight, and powerful, making it suitable for both work and entertainment. Highly recommended for anyone in need of a new laptop!\n\n\"Great for on-the-go professionals - 4.5 stars\"\nAs a traveling professional, the Supernova has been a reliable companion. Its lightweight design and long battery life make it ideal for working on the go. The only minor issue is the webcam quality, but overall, it's an excellent laptop.\n\n\"Stylish and versatile - 5 stars\"\nThe Raytech Supernova is a perfect combination of style and functionality. The aluminum chassis gives it a premium feel, and the performance is top-notch. The variety of ports allows me to connect all my peripherals without a problem. Highly satisfied!\n\n\"Reliable and user-friendly - 4 stars\"\nThe Supernova has been a dependable laptop for my daily tasks. The 4K display is a treat for the eyes, and the performance is reliable. The fingerprint reader for secure login is a nice touch. However, the audio quality could be better.\n\n\"A solid choice for students - 5 stars\"\nAs a student, I needed a laptop that could handle multitasking, media consumption, and occasional gaming. The Supernova checks all those boxes while being lightweight and stylish. The battery life is also a huge plus. I'm extremely happy with my purchase!\n\n"
        ]
       ],
       "datasetInfos": [],
       "dbfsResultPath": null,
       "isJsonSchema": true,
       "metadata": {},
       "overflow": false,
       "plotOptions": {
        "customPlotOptions": {},
        "displayType": "table",
        "pivotAggregation": null,
        "pivotColumns": null,
        "xColumns": null,
        "yColumns": null
       },
       "removedWidgets": [],
       "schema": [
        {
         "metadata": "{}",
         "name": "metadata",
         "type": "{\"type\":\"map\",\"keyType\":\"string\",\"valueType\":\"string\",\"valueContainsNull\":true}"
        },
        {
         "metadata": "{}",
         "name": "page_content",
         "type": "\"string\""
        }
       ],
       "type": "table"
      }
     },
     "output_type": "display_data"
    }
   ],
   "source": [
    "from langchain.vectorstores import Chroma\n",
    "from langchain.document_loaders import TextLoader\n",
    "\n",
    "# We have some fake laptop reviews that we can load in\n",
    "laptop_reviews = TextLoader(\n",
    "    f\"{DA.paths.datasets}/reviews/fake_laptop_reviews.txt\", encoding=\"utf8\"\n",
    ")\n",
    "document = laptop_reviews.load()\n",
    "display(document)"
   ]
  },
  {
   "attachments": {},
   "cell_type": "markdown",
   "metadata": {
    "application/vnd.databricks.v1+cell": {
     "cellMetadata": {},
     "inputWidgets": {},
     "nuid": "fc1be436-b685-4a93-bc57-969023bf6f4a",
     "showTitle": false,
     "title": ""
    }
   },
   "source": [
    "### Step 2 - Chunking and Embeddings\n",
    "\n",
    "Now that we have the data in document format, we will split data into chunks using a `CharacterTextSplitter` and embed this data using Hugging Face's embedding LLM to embed this data for our vector store."
   ]
  },
  {
   "cell_type": "code",
   "execution_count": null,
   "metadata": {
    "application/vnd.databricks.v1+cell": {
     "cellMetadata": {
      "byteLimit": 2048000,
      "rowLimit": 10000
     },
     "inputWidgets": {},
     "nuid": "4b2c1c30-c268-48aa-912a-b54667368731",
     "showTitle": false,
     "title": ""
    }
   },
   "outputs": [],
   "source": [
    "from langchain.text_splitter import CharacterTextSplitter\n",
    "from langchain.embeddings import HuggingFaceEmbeddings\n",
    "from langchain.vectorstores import Chroma\n",
    "\n",
    "# First we split the data into manageable chunks to store as vectors. There isn't an exact way to do this, more chunks means more detailed context, but will increase the size of our vectorstore.\n",
    "text_splitter = CharacterTextSplitter(chunk_size=250, chunk_overlap=10)\n",
    "texts = text_splitter.split_documents(document)\n",
    "# Now we'll create embeddings for our document so we can store it in a vector store and feed the data into an LLM. We'll use the sentence-transformers model for out embeddings. https://www.sbert.net/docs/pretrained_models.html#sentence-embedding-models/\n",
    "model_name = \"sentence-transformers/all-MiniLM-L6-v2\"\n",
    "embeddings = HuggingFaceEmbeddings(\n",
    "    model_name=model_name, cache_folder=DA.paths.datasets\n",
    ")  # Use a pre-cached model\n",
    "# Finally we make our Index using chromadb and the embeddings LLM\n",
    "chromadb_index = Chroma.from_documents(\n",
    "    texts, embeddings, persist_directory=DA.paths.working_dir\n",
    ")"
   ]
  },
  {
   "attachments": {},
   "cell_type": "markdown",
   "metadata": {
    "application/vnd.databricks.v1+cell": {
     "cellMetadata": {},
     "inputWidgets": {},
     "nuid": "d210ef1e-6f0d-40f0-a745-7cc15ce5c51a",
     "showTitle": false,
     "title": ""
    }
   },
   "source": [
    "### Step 3 - Creating our Document QA LLM Chain\n",
    "With our data now in vector form we need an LLM and a chain to take our queries and create tasks for our LLM to perform."
   ]
  },
  {
   "cell_type": "code",
   "execution_count": null,
   "metadata": {
    "application/vnd.databricks.v1+cell": {
     "cellMetadata": {
      "byteLimit": 2048000,
      "rowLimit": 10000
     },
     "inputWidgets": {},
     "nuid": "7118e9f2-4663-4ae6-931e-83a677c4a223",
     "showTitle": false,
     "title": ""
    }
   },
   "outputs": [],
   "source": [
    "from langchain.chains import RetrievalQA\n",
    "from langchain.llms import HuggingFacePipeline\n",
    "\n",
    "# We want to make this a retriever, so we need to convert our index.  This will create a wrapper around the functionality of our vector database so we can search for similar documents/chunks in the vectorstore and retrieve the results:\n",
    "retriever = chromadb_index.as_retriever()\n",
    "\n",
    "# This chain will be used to do QA on the document. We will need\n",
    "# 1 - A LLM to do the language interpretation\n",
    "# 2 - A vector database that can perform document retrieval\n",
    "# 3 - Specification on how to deal with this data (more on this soon)\n",
    "\n",
    "hf_llm = HuggingFacePipeline.from_model_id(\n",
    "    model_id=\"google/flan-t5-large\",\n",
    "    task=\"text2text-generation\",\n",
    "    model_kwargs={\n",
    "        \"temperature\": 0,\n",
    "        \"max_length\": 128,\n",
    "        \"cache_dir\": DA.paths.datasets,\n",
    "    },\n",
    ")\n",
    "\n",
    "chain_type = \"stuff\"  # Options: stuff, map_reduce, refine, map_rerank\n",
    "laptop_qa = RetrievalQA.from_chain_type(\n",
    "    llm=hf_llm, chain_type=\"stuff\", retriever=retriever\n",
    ")"
   ]
  },
  {
   "attachments": {},
   "cell_type": "markdown",
   "metadata": {
    "application/vnd.databricks.v1+cell": {
     "cellMetadata": {},
     "inputWidgets": {},
     "nuid": "bef19c3c-50dc-49d2-a354-2445dcd9fc7f",
     "showTitle": false,
     "title": ""
    }
   },
   "source": [
    "### Step 4 - Talking to Our Data\n",
    "Now we are ready to send prompts to our LLM and have it use our prompt, the access to our data, and read the information, process, and return with a response."
   ]
  },
  {
   "cell_type": "code",
   "execution_count": null,
   "metadata": {
    "application/vnd.databricks.v1+cell": {
     "cellMetadata": {
      "byteLimit": 2048000,
      "rowLimit": 10000
     },
     "inputWidgets": {},
     "nuid": "6ac760df-123f-457a-af70-25cae73df721",
     "showTitle": false,
     "title": ""
    }
   },
   "outputs": [
    {
     "name": "stderr",
     "output_type": "stream",
     "text": [
      "Token indices sequence length is longer than the specified maximum sequence length for this model (1666 > 512). Running this sequence through the model will result in indexing errors\n",
      "/databricks/python/lib/python3.10/site-packages/transformers/generation/utils.py:1219: UserWarning: You have modified the pretrained model configuration to control generation. This is a deprecated strategy to control generation and will be removed soon, in a future version. Please use a generation configuration file (see https://huggingface.co/docs/transformers/main_classes/text_generation)\n",
      "  warnings.warn(\n"
     ]
    },
    {
     "data": {
      "text/plain": [
       "'Raytech Supernova'"
      ]
     },
     "metadata": {},
     "output_type": "display_data"
    }
   ],
   "source": [
    "# Let's ask the chain about the product we have.\n",
    "laptop_name = laptop_qa.run(\"What is the full name of the laptop?\")\n",
    "display(laptop_name)"
   ]
  },
  {
   "cell_type": "code",
   "execution_count": null,
   "metadata": {
    "application/vnd.databricks.v1+cell": {
     "cellMetadata": {
      "byteLimit": 2048000,
      "rowLimit": 10000
     },
     "inputWidgets": {},
     "nuid": "521bfedc-78f7-4a04-8ac8-28ac44bbc58b",
     "showTitle": false,
     "title": ""
    }
   },
   "outputs": [
    {
     "data": {
      "text/plain": [
       "'The 4K display, powerful GPU, and fast SSD'"
      ]
     },
     "metadata": {},
     "output_type": "display_data"
    }
   ],
   "source": [
    "# Now we'll ask the chain about the product.\n",
    "laptop_features = laptop_qa.run(\"What are some of the laptop's features?\")\n",
    "display(laptop_features)"
   ]
  },
  {
   "cell_type": "code",
   "execution_count": null,
   "metadata": {
    "application/vnd.databricks.v1+cell": {
     "cellMetadata": {
      "byteLimit": 2048000,
      "rowLimit": 10000
     },
     "inputWidgets": {},
     "nuid": "c9c42cb4-77ff-4849-ac14-cee39bf8716a",
     "showTitle": false,
     "title": ""
    }
   },
   "outputs": [
    {
     "data": {
      "text/plain": [
       "'positive'"
      ]
     },
     "metadata": {},
     "output_type": "display_data"
    }
   ],
   "source": [
    "# Finally let's ask the chain about the reviews.\n",
    "laptop_reviews = laptop_qa.run(\"What is the general sentiment of the reviews?\")\n",
    "display(laptop_reviews)"
   ]
  },
  {
   "attachments": {},
   "cell_type": "markdown",
   "metadata": {
    "application/vnd.databricks.v1+cell": {
     "cellMetadata": {},
     "inputWidgets": {},
     "nuid": "96b85279-9c21-491e-a517-8506c6a2d630",
     "showTitle": false,
     "title": ""
    }
   },
   "source": [
    "## Exercise: Working with larger documents\n",
    "This document was relatively small. So let's see if we can work with something bigger. To show how well we can scale the vector database, let's load in a larger document. For this we'll get data from the [Gutenberg Project](https://www.gutenberg.org/) where thousands of free-to-access texts. We'll use the complete works of William Shakespeare.\n",
    "\n",
    "Instead of a local text document, we'll download the complete works of Shakespeare using the `GutenbergLoader` that works with the Gutenberg project: https://www.gutenberg.org"
   ]
  },
  {
   "cell_type": "code",
   "execution_count": null,
   "metadata": {
    "application/vnd.databricks.v1+cell": {
     "cellMetadata": {
      "byteLimit": 2048000,
      "rowLimit": 10000
     },
     "inputWidgets": {},
     "nuid": "8e7d32fc-dbc6-499b-b53c-a04a14f09199",
     "showTitle": false,
     "title": ""
    }
   },
   "outputs": [],
   "source": [
    "from langchain.document_loaders import GutenbergLoader\n",
    "\n",
    "loader = GutenbergLoader(\n",
    "    \"https://www.gutenberg.org/cache/epub/100/pg100.txt\"\n",
    ")  # Complete works of Shakespeare in a txt file\n",
    "\n",
    "all_shakespeare_text = loader.load()"
   ]
  },
  {
   "attachments": {},
   "cell_type": "markdown",
   "metadata": {
    "application/vnd.databricks.v1+cell": {
     "cellMetadata": {},
     "inputWidgets": {},
     "nuid": "f4314d51-41a6-4fc0-8f0d-8743388894ae",
     "showTitle": false,
     "title": ""
    }
   },
   "source": [
    "### Question 1\n",
    "\n",
    "Now it's your turn! Based on what we did previously, fill in the missing parts below to build your own QA LLMChain."
   ]
  },
  {
   "cell_type": "code",
   "execution_count": null,
   "metadata": {
    "application/vnd.databricks.v1+cell": {
     "cellMetadata": {
      "byteLimit": 2048000,
      "rowLimit": 10000
     },
     "inputWidgets": {},
     "nuid": "0d6a1a70-e7d2-40f1-8ec9-02000792a4bb",
     "showTitle": false,
     "title": ""
    }
   },
   "outputs": [
    {
     "name": "stderr",
     "output_type": "stream",
     "text": [
      "Using embedded DuckDB with persistence: data will be stored in: /dbfs/mnt/dbacademy-users/labuser4237713@vocareum.com/large-language-models\n"
     ]
    }
   ],
   "source": [
    "# TODO\n",
    "#hint try chunk sizes of 1024 and an overlap of 256 (this will take approx. 10mins with this model to build our vector database index)\n",
    "text_splitter = CharacterTextSplitter(chunk_size=1024, chunk_overlap=256) \n",
    "texts = text_splitter.split_documents(all_shakespeare_text)\n",
    "\n",
    "model_name = \"sentence-transformers/all-MiniLM-L6-v2\" #hint, try \"sentence-transformers/all-MiniLM-L6-v2\" as your model\n",
    "embeddings = HuggingFaceEmbeddings(\n",
    "    model_name=model_name, cache_folder=DA.paths.datasets\n",
    ") \n",
    "docsearch = Chroma.from_documents(\n",
    "    texts, embeddings, persist_directory=DA.paths.working_dir\n",
    ")\n",
    "\n"
   ]
  },
  {
   "cell_type": "code",
   "execution_count": null,
   "metadata": {
    "application/vnd.databricks.v1+cell": {
     "cellMetadata": {
      "byteLimit": 2048000,
      "rowLimit": 10000
     },
     "inputWidgets": {},
     "nuid": "a6ca5340-5c28-4e69-aaa2-3183de906b29",
     "showTitle": false,
     "title": ""
    }
   },
   "outputs": [
    {
     "name": "stdout",
     "output_type": "stream",
     "text": [
      "\u001b[32mPASSED\u001b[0m: All tests passed for lesson3, question1\n",
      "\u001b[32mRESULTS RECORDED\u001b[0m: Click `Submit` when all questions are completed to log the results.\n"
     ]
    }
   ],
   "source": [
    "# Test your answer. DO NOT MODIFY THIS CELL.\n",
    "\n",
    "dbTestQuestion3_1(embeddings, docsearch)"
   ]
  },
  {
   "attachments": {},
   "cell_type": "markdown",
   "metadata": {
    "application/vnd.databricks.v1+cell": {
     "cellMetadata": {},
     "inputWidgets": {},
     "nuid": "42c57de6-7870-4ba3-94d2-8cb57dcef164",
     "showTitle": false,
     "title": ""
    }
   },
   "source": [
    "### Question 2\n",
    "\n",
    "Let's see if we can do what we did with the laptop reviews. \n",
    "\n",
    "Think about what is likely to happen now. Will this command succeed? \n",
    "\n",
    "(***Hint: think about the maximum sequence length of a model***)"
   ]
  },
  {
   "cell_type": "code",
   "execution_count": null,
   "metadata": {
    "application/vnd.databricks.v1+cell": {
     "cellMetadata": {
      "byteLimit": 2048000,
      "rowLimit": 10000
     },
     "inputWidgets": {},
     "nuid": "83f8fcbb-efac-4979-bfc3-72285813d75c",
     "showTitle": false,
     "title": ""
    }
   },
   "outputs": [
    {
     "data": {
      "text/plain": [
       "'not enough information'"
      ]
     },
     "execution_count": 28,
     "metadata": {},
     "output_type": "execute_result"
    }
   ],
   "source": [
    "# TODO\n",
    "# Let's start with the simplest method: \"Stuff\" which puts all of the data into the prompt and asks a question of it:\n",
    "qa = RetrievalQA.from_chain_type(\n",
    "    llm=hf_llm, chain_type=\"stuff\", retriever=retriever\n",
    ")\n",
    "query = \"What happens in the play Hamlet?\"\n",
    "# Run the query\n",
    "query_results_hamlet = qa.run(query)\n",
    "\n",
    "query_results_hamlet"
   ]
  },
  {
   "cell_type": "code",
   "execution_count": null,
   "metadata": {
    "application/vnd.databricks.v1+cell": {
     "cellMetadata": {
      "byteLimit": 2048000,
      "rowLimit": 10000
     },
     "inputWidgets": {},
     "nuid": "b100521e-bd7b-445e-95c7-82c445974432",
     "showTitle": false,
     "title": ""
    }
   },
   "outputs": [
    {
     "name": "stdout",
     "output_type": "stream",
     "text": [
      "\u001b[32mPASSED\u001b[0m: All tests passed for lesson3, question2\n",
      "\u001b[32mRESULTS RECORDED\u001b[0m: Click `Submit` when all questions are completed to log the results.\n"
     ]
    }
   ],
   "source": [
    "# Test your answer. DO NOT MODIFY THIS CELL.\n",
    "\n",
    "dbTestQuestion3_2(qa, query_results_hamlet)"
   ]
  },
  {
   "attachments": {},
   "cell_type": "markdown",
   "metadata": {
    "application/vnd.databricks.v1+cell": {
     "cellMetadata": {},
     "inputWidgets": {},
     "nuid": "08f27aaf-b092-47d9-b845-4471ae545a6e",
     "showTitle": false,
     "title": ""
    }
   },
   "source": [
    "### Question 3\n",
    "\n",
    "Now that we're working with larger documents, we should be mindful of the input sequence limitations that our LLM has. \n",
    "\n",
    "Chain Types for document loader:\n",
    "\n",
    "- [`stuff`](https://docs.langchain.com/docs/components/chains/index_related_chains#stuffing) - Stuffing is the simplest method, whereby you simply stuff all the related data into the prompt as context to pass to the language model.\n",
    "- [`map_reduce`](https://docs.langchain.com/docs/components/chains/index_related_chains#map-reduce) - This method involves running an initial prompt on each chunk of data (for summarization tasks, this could be a summary of that chunk; for question-answering tasks, it could be an answer based solely on that chunk).\n",
    "- [`refine`](https://docs.langchain.com/docs/components/chains/index_related_chains#refine) - This method involves running an initial prompt on the first chunk of data, generating some output. For the remaining documents, that output is passed in, along with the next document, asking the LLM to refine the output based on the new document.\n",
    "- [`map_rerank`](https://docs.langchain.com/docs/components/chains/index_related_chains#map-rerank) - This method involves running an initial prompt on each chunk of data, that not only tries to complete a task but also gives a score for how certain it is in its answer. The responses are then ranked according to this score, and the highest score is returned."
   ]
  },
  {
   "cell_type": "code",
   "execution_count": null,
   "metadata": {
    "application/vnd.databricks.v1+cell": {
     "cellMetadata": {
      "byteLimit": 2048000,
      "rowLimit": 10000
     },
     "inputWidgets": {},
     "nuid": "43c802b4-fcb6-4250-bafd-3842a523def6",
     "showTitle": false,
     "title": ""
    }
   },
   "outputs": [],
   "source": [
    "# TODO\n",
    "qa = RetrievalQA.from_chain_type(llm=hf_llm, chain_type=\"map_reduce\", retriever=docsearch.as_retriever())\n",
    "query = \"Who is the main character in the Merchant of Venice?\"\n",
    "query_results_venice = qa.run(query)\n",
    "\n",
    "query_results_venice"
   ]
  },
  {
   "cell_type": "code",
   "execution_count": null,
   "metadata": {
    "application/vnd.databricks.v1+cell": {
     "cellMetadata": {
      "byteLimit": 2048000,
      "rowLimit": 10000
     },
     "inputWidgets": {},
     "nuid": "a9c83838-a9b4-4fb2-a03d-db170fc894b3",
     "showTitle": false,
     "title": ""
    }
   },
   "outputs": [
    {
     "name": "stdout",
     "output_type": "stream",
     "text": [
      "\u001b[32mPASSED\u001b[0m: All tests passed for lesson3, question3\n",
      "\u001b[32mRESULTS RECORDED\u001b[0m: Click `Submit` when all questions are completed to log the results.\n"
     ]
    }
   ],
   "source": [
    "# Test your answer. DO NOT MODIFY THIS CELL.\n",
    "\n",
    "dbTestQuestion3_3(qa, query_results_venice)"
   ]
  },
  {
   "attachments": {},
   "cell_type": "markdown",
   "metadata": {
    "application/vnd.databricks.v1+cell": {
     "cellMetadata": {},
     "inputWidgets": {},
     "nuid": "7551f4f8-a608-444b-9335-d4c0ff495b3b",
     "showTitle": false,
     "title": ""
    }
   },
   "source": [
    "### Question 4"
   ]
  },
  {
   "cell_type": "code",
   "execution_count": null,
   "metadata": {
    "application/vnd.databricks.v1+cell": {
     "cellMetadata": {
      "byteLimit": 2048000,
      "rowLimit": 10000
     },
     "inputWidgets": {},
     "nuid": "0a219dc1-1933-4739-ac3e-8c371a1ab119",
     "showTitle": false,
     "title": ""
    }
   },
   "outputs": [
    {
     "data": {
      "text/plain": [
       "'Romeo and Juliet are reunited in the afterlife'"
      ]
     },
     "execution_count": 32,
     "metadata": {},
     "output_type": "execute_result"
    }
   ],
   "source": [
    "# TODO\n",
    "# That's much better! Let's try another type\n",
    "\n",
    "qa = RetrievalQA.from_chain_type(llm=hf_llm, chain_type=\"refine\", retriever=docsearch.as_retriever())\n",
    "query = \"What happens to romeo and juliet?\"\n",
    "query_results_romeo = qa.run(query)\n",
    "\n",
    "query_results_romeo"
   ]
  },
  {
   "cell_type": "code",
   "execution_count": null,
   "metadata": {
    "application/vnd.databricks.v1+cell": {
     "cellMetadata": {
      "byteLimit": 2048000,
      "rowLimit": 10000
     },
     "inputWidgets": {},
     "nuid": "2dfdcf42-ea9e-40ee-b3cc-adbcab202d33",
     "showTitle": false,
     "title": ""
    }
   },
   "outputs": [
    {
     "name": "stdout",
     "output_type": "stream",
     "text": [
      "\u001b[32mPASSED\u001b[0m: All tests passed for lesson3, question4\n",
      "\u001b[32mRESULTS RECORDED\u001b[0m: Click `Submit` when all questions are completed to log the results.\n"
     ]
    }
   ],
   "source": [
    "# Test your answer. DO NOT MODIFY THIS CELL.\n",
    "\n",
    "dbTestQuestion3_4(qa, query_results_romeo)"
   ]
  },
  {
   "attachments": {},
   "cell_type": "markdown",
   "metadata": {
    "application/vnd.databricks.v1+cell": {
     "cellMetadata": {},
     "inputWidgets": {},
     "nuid": "d73f7e4a-682b-48e9-845c-baaac5faecc8",
     "showTitle": false,
     "title": ""
    }
   },
   "source": [
    "## Submit your Results (edX Verified Only)\n",
    "\n",
    "To get credit for this lab, click the submit button in the top right to report the results. If you run into any issues, click `Run` -> `Clear state and run all`, and make sure all tests have passed before re-submitting. If you accidentally deleted any tests, take a look at the notebook's version history to recover them or reload the notebooks."
   ]
  },
  {
   "attachments": {},
   "cell_type": "markdown",
   "metadata": {
    "application/vnd.databricks.v1+cell": {
     "cellMetadata": {},
     "inputWidgets": {},
     "nuid": "e4e8f821-411b-4802-bd86-fbac65e804c4",
     "showTitle": false,
     "title": ""
    }
   },
   "source": [
    "-sandbox\n",
    "&copy; 2023 Databricks, Inc. All rights reserved.<br/>\n",
    "Apache, Apache Spark, Spark and the Spark logo are trademarks of the <a href=\"https://www.apache.org/\">Apache Software Foundation</a>.<br/>\n",
    "<br/>\n",
    "<a href=\"https://databricks.com/privacy-policy\">Privacy Policy</a> | <a href=\"https://databricks.com/terms-of-use\">Terms of Use</a> | <a href=\"https://help.databricks.com/\">Support</a>"
   ]
  }
 ],
 "metadata": {
  "application/vnd.databricks.v1+notebook": {
   "dashboards": [],
   "language": "python",
   "notebookMetadata": {
    "pythonIndentUnit": 2
   },
   "notebookName": "LLM 03L - Building LLM Chains Lab",
   "widgets": {}
  },
  "language_info": {
   "name": "python"
  }
 },
 "nbformat": 4,
 "nbformat_minor": 0
}
